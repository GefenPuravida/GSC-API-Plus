{
 "cells": [
  {
   "cell_type": "code",
   "execution_count": null,
   "metadata": {
    "ExecuteTime": {
     "end_time": "2021-09-06T10:10:32.750629Z",
     "start_time": "2021-09-06T10:10:25.071493Z"
    }
   },
   "outputs": [],
   "source": [
    "from IPython.display import clear_output\n",
    "!git clone https://github.com/jroakes/querycat.git\n",
    "!pip install -r querycat/requirements_colab.txt\n",
    "\n",
    "clear_output()\n",
    "print('All loaded.')"
   ]
  },
  {
   "cell_type": "code",
   "execution_count": null,
   "metadata": {
    "ExecuteTime": {
     "end_time": "2021-09-08T13:32:13.672320Z",
     "start_time": "2021-09-08T13:31:40.971492Z"
    }
   },
   "outputs": [],
   "source": [
    "import querycat\n",
    "import searchconsole\n",
    "import numpy as np\n",
    "import pandas as pd\n",
    "from sklearn.cluster import KMeans\n",
    "import matplotlib.pyplot as plt\n",
    "account = searchconsole.authenticate(client_config='client_secrets.json',\n",
    "                                     credentials='credentials.json')\n",
    "webproperty = account['https://www.example.com/']\n",
    "report = webproperty.query.range('today',days=-30).dimension('date','query','page','country').get().to_dataframe()\n",
    "#print(report.rows)"
   ]
  },
  {
   "cell_type": "code",
   "execution_count": null,
   "metadata": {
    "ExecuteTime": {
     "end_time": "2021-09-08T17:55:02.368556Z",
     "start_time": "2021-09-08T17:55:00.190206Z"
    }
   },
   "outputs": [],
   "source": [
    "#report=report[report['position'] <= 30]  \n",
    "report['diff'] = 1"
   ]
  },
  {
   "cell_type": "code",
   "execution_count": null,
   "metadata": {
    "ExecuteTime": {
     "end_time": "2021-09-08T13:46:56.499863Z",
     "start_time": "2021-09-08T13:33:35.469162Z"
    }
   },
   "outputs": [],
   "source": [
    "catz = querycat.Categorize(report, 'query', min_support=10,  alg='apriori')\n",
    "catz.counts.head(20)"
   ]
  },
  {
   "cell_type": "code",
   "execution_count": null,
   "metadata": {
    "ExecuteTime": {
     "end_time": "2021-09-08T17:53:16.715822Z",
     "start_time": "2021-09-08T17:53:10.276278Z"
    }
   },
   "outputs": [],
   "source": [
    "labels = ['1 to 3', '3 to 5', '5 to 9', '9 to 30']\n",
    "report['position_bins'] = pd.qcut(report['position'], q=4,labels=labels)"
   ]
  },
  {
   "cell_type": "code",
   "execution_count": null,
   "metadata": {
    "ExecuteTime": {
     "end_time": "2021-09-08T17:54:17.427691Z",
     "start_time": "2021-09-08T17:54:12.608297Z"
    }
   },
   "outputs": [],
   "source": [
    "bsim = querycat.BERTSim()"
   ]
  },
  {
   "cell_type": "code",
   "execution_count": null,
   "metadata": {
    "ExecuteTime": {
     "end_time": "2021-09-08T17:55:11.384045Z",
     "start_time": "2021-09-08T17:55:11.278597Z"
    }
   },
   "outputs": [],
   "source": [
    "bsim.read_df(report, term_col = 'category', diff_col = 'diff')"
   ]
  },
  {
   "cell_type": "code",
   "execution_count": null,
   "metadata": {
    "ExecuteTime": {
     "end_time": "2021-09-08T17:55:22.084194Z",
     "start_time": "2021-09-08T17:55:14.559710Z"
    }
   },
   "outputs": [],
   "source": [
    "bsim.diff_plot(reduction='umap')"
   ]
  },
  {
   "cell_type": "code",
   "execution_count": null,
   "metadata": {
    "ExecuteTime": {
     "end_time": "2021-09-08T17:55:26.348050Z",
     "start_time": "2021-09-08T17:55:26.326111Z"
    }
   },
   "outputs": [],
   "source": [
    "data = {'category': bsim.terms,'embedding_1': bsim.embeddings_2d[:,0], 'embedding_2':bsim.embeddings_2d[:,1]}\n",
    "embeddings_df=pd.DataFrame(data=data)"
   ]
  },
  {
   "cell_type": "code",
   "execution_count": null,
   "metadata": {
    "ExecuteTime": {
     "end_time": "2021-09-08T18:01:55.402503Z",
     "start_time": "2021-09-08T18:01:55.158156Z"
    }
   },
   "outputs": [],
   "source": [
    "wcss = []\n",
    "for i in range(1, 11):\n",
    "    kmeans = KMeans(n_clusters = i, init = 'k-means++', max_iter = 300, n_init = 10, random_state = 0)\n",
    "    kmeans.fit(bsim.embeddings_2d)\n",
    "    wcss.append(kmeans.inertia_)"
   ]
  },
  {
   "cell_type": "code",
   "execution_count": null,
   "metadata": {
    "ExecuteTime": {
     "end_time": "2021-09-08T18:01:57.129352Z",
     "start_time": "2021-09-08T18:01:57.006543Z"
    }
   },
   "outputs": [],
   "source": [
    "plt.plot(range(1, 11), wcss)\n",
    "plt.title('The elbow method')\n",
    "plt.xlabel('Number of clusters')\n",
    "plt.ylabel('WCSS') #within cluster sum of squares\n",
    "plt.show()"
   ]
  },
  {
   "cell_type": "code",
   "execution_count": null,
   "metadata": {
    "ExecuteTime": {
     "end_time": "2021-09-08T18:03:45.107021Z",
     "start_time": "2021-09-08T18:03:43.829950Z"
    }
   },
   "outputs": [],
   "source": [
    "n_clusters=input('insert number of topics   ')\n",
    "print('')\n",
    "print('')\n",
    "#Applying kmeans to the dataset / Creating the kmeans classifier\n",
    "kmeans = KMeans(n_clusters = int(n_clusters), init = 'k-means++', max_iter = 300, n_init = 10, random_state = 0)\n",
    "y_kmeans = kmeans.fit_predict(bsim.embeddings_2d)\n",
    "y_kmeans_to_merge=pd.DataFrame(y_kmeans).rename(columns={0:\"topic\"})"
   ]
  },
  {
   "cell_type": "code",
   "execution_count": null,
   "metadata": {
    "ExecuteTime": {
     "end_time": "2021-09-08T18:08:30.303299Z",
     "start_time": "2021-09-08T18:08:30.285336Z"
    }
   },
   "outputs": [],
   "source": [
    "embeddings_df=embeddings_df.join(y_kmeans_to_merge)"
   ]
  },
  {
   "cell_type": "code",
   "execution_count": null,
   "metadata": {
    "ExecuteTime": {
     "end_time": "2021-09-08T18:12:33.161071Z",
     "start_time": "2021-09-08T18:12:33.150100Z"
    }
   },
   "outputs": [],
   "source": [
    "embeddings_df.drop(columns=['embedding_1','embedding_2'],inplace=True)"
   ]
  },
  {
   "cell_type": "code",
   "execution_count": null,
   "metadata": {
    "ExecuteTime": {
     "end_time": "2021-09-08T18:12:45.810604Z",
     "start_time": "2021-09-08T18:12:45.557004Z"
    }
   },
   "outputs": [],
   "source": [
    "report_export= report.merge(embeddings_df, on='category',how='outer')"
   ]
  },
  {
   "cell_type": "markdown",
   "metadata": {},
   "source": [
    "### Navigational\n",
    "Brand, product name, previous touch-point (existing exposure) \n",
    "\n",
    "### Informational\n",
    "info, more information, information, details, accessories, details, features, benefits\n",
    "\n",
    "### Commercial Investigation\n",
    "small, medium, large, kids, mens, womens, black, blue, gray, orange, pink, red, green, purple, versus, vs, best, price, pricing, reviews, deals\n",
    "### Transactional\n",
    "buy, purchase, sale, coupon, discount\n"
   ]
  },
  {
   "cell_type": "code",
   "execution_count": null,
   "metadata": {
    "ExecuteTime": {
     "end_time": "2021-09-08T18:15:27.806781Z",
     "start_time": "2021-09-08T18:15:27.589000Z"
    }
   },
   "outputs": [],
   "source": [
    "mydict = {'maytronics' : 'navigational',\n",
    "            'dolphin' : 'navigational',\n",
    "            'wave' : 'navigational',\n",
    "            'what' : 'informational',\n",
    "            'why ': 'informational',\n",
    "            'how': 'informational',\n",
    "            'info': 'informational', \n",
    "            'more information': 'informational', \n",
    "            'information': 'informational', \n",
    "            'details': 'informational', \n",
    "            'accessories': 'informational', \n",
    "            'details': 'informational', \n",
    "            'features': 'informational', \n",
    "            'benefits': 'informational',\n",
    "            'small': 'comercial', \n",
    "            'medium': 'comercial', \n",
    "            'large': 'comercial', \n",
    "            'kids': 'comercial', \n",
    "            'mens': 'comercial', \n",
    "            'womens': 'comercial', \n",
    "            'black': 'comercial', \n",
    "            'blue': 'comercial', \n",
    "            'gray': 'comercial', \n",
    "            'orange': 'comercial', \n",
    "            'pink': 'comercial', \n",
    "            'red': 'comercial', \n",
    "            'green': 'comercial', \n",
    "            'purple': 'comercial', \n",
    "            'versus': 'comercial', \n",
    "            'vs': 'comercial', \n",
    "            'best': 'comercial', \n",
    "            'price': 'comercial',\n",
    "            'cost': 'comercial',\n",
    "            'pricing': 'comercial', \n",
    "            'reviews': 'comercial', \n",
    "            'deals': 'comercial',         \n",
    "            'buy': 'transactional',\n",
    "            'purchase': 'transactional',\n",
    "            'sale': 'transactional',\n",
    "            'coupon': 'transactional',\n",
    "            'discount': 'transactional'}\n",
    "\n",
    "pat = '|'.join(r\"\\b{}\\b\".format(x) for x in mydict.keys())\n",
    "report_export['intent'] = report_export['query'].str.extract('('+ pat + ')', expand=False).map(mydict)"
   ]
  },
  {
   "cell_type": "code",
   "execution_count": null,
   "metadata": {
    "ExecuteTime": {
     "end_time": "2021-09-08T18:15:37.664991Z",
     "start_time": "2021-09-08T18:15:37.564291Z"
    }
   },
   "outputs": [],
   "source": [
    "report_export.drop(columns=['diff'],inplace=True)"
   ]
  },
  {
   "cell_type": "code",
   "execution_count": null,
   "metadata": {
    "ExecuteTime": {
     "end_time": "2021-09-08T18:16:20.891541Z",
     "start_time": "2021-09-08T18:16:19.733797Z"
    }
   },
   "outputs": [],
   "source": [
    "report_export.to_csv('report_export.csv')"
   ]
  }
 ],
 "metadata": {
  "kernelspec": {
   "display_name": "Python 3",
   "language": "python",
   "name": "python3"
  },
  "language_info": {
   "codemirror_mode": {
    "name": "ipython",
    "version": 3
   },
   "file_extension": ".py",
   "mimetype": "text/x-python",
   "name": "python",
   "nbconvert_exporter": "python",
   "pygments_lexer": "ipython3",
   "version": "3.7.3"
  },
  "toc": {
   "base_numbering": 1,
   "nav_menu": {},
   "number_sections": true,
   "sideBar": true,
   "skip_h1_title": false,
   "title_cell": "Table of Contents",
   "title_sidebar": "Contents",
   "toc_cell": false,
   "toc_position": {},
   "toc_section_display": true,
   "toc_window_display": false
  },
  "varInspector": {
   "cols": {
    "lenName": 16,
    "lenType": 16,
    "lenVar": 40
   },
   "kernels_config": {
    "python": {
     "delete_cmd_postfix": "",
     "delete_cmd_prefix": "del ",
     "library": "var_list.py",
     "varRefreshCmd": "print(var_dic_list())"
    },
    "r": {
     "delete_cmd_postfix": ") ",
     "delete_cmd_prefix": "rm(",
     "library": "var_list.r",
     "varRefreshCmd": "cat(var_dic_list()) "
    }
   },
   "types_to_exclude": [
    "module",
    "function",
    "builtin_function_or_method",
    "instance",
    "_Feature"
   ],
   "window_display": false
  }
 },
 "nbformat": 4,
 "nbformat_minor": 2
}
